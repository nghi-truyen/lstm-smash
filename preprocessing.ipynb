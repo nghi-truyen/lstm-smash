{
 "cells": [
  {
   "cell_type": "code",
   "execution_count": null,
   "metadata": {},
   "outputs": [],
   "source": [
    "import smash\n",
    "import numpy as np\n",
    "import pandas as pd\n",
    "from datetime import timedelta"
   ]
  },
  {
   "cell_type": "code",
   "execution_count": 1,
   "metadata": {},
   "outputs": [],
   "source": [
    "pathmodel = \"models/model-train-P1.hdf5\"\n",
    "outfile = \"data-P1.csv\""
   ]
  },
  {
   "cell_type": "code",
   "execution_count": null,
   "metadata": {},
   "outputs": [],
   "source": [
    "def timestep_1year(st, dt, n_ts):\n",
    "\n",
    "    timestep = np.arange(1, int(365*24*60*60/dt) + 1)\n",
    "\n",
    "    defst = f\"{pd.to_datetime(st).year}-08-01 00:00:00\"\n",
    "\n",
    "    if pd.Timestamp(st) < pd.Timestamp(defst):\n",
    "        timestamps = pd.date_range(start=st, end=defst, freq=timedelta(seconds=dt))\n",
    "        s_ind = timestep.size - (len(timestamps) - 1)\n",
    "    else:\n",
    "        timestamps = pd.date_range(start=defst, end=st, freq=timedelta(seconds=dt))\n",
    "        s_ind = len(timestamps) - 1\n",
    "\n",
    "    return np.array([timestep[(s_ind+i)%len(timestep)] for i in range(n_ts)])"
   ]
  },
  {
   "cell_type": "code",
   "execution_count": null,
   "metadata": {},
   "outputs": [],
   "source": [
    "try:\n",
    "    model = smash.read_model(pathmodel)\n",
    "except:\n",
    "    try:\n",
    "        model = smash.read_model_ddt(pathmodel)\n",
    "\n",
    "        dt = model[\"dt\"]\n",
    "        st = model[\"start_time\"]\n",
    "        \n",
    "        code = model[\"code\"]\n",
    "\n",
    "        qs = model[\"qsim\"]\n",
    "\n",
    "        qo = model[\"qobs\"]\n",
    "        qo[qo<0] = np.nan\n",
    "\n",
    "        prcp = model[\"mean_prcp\"]\n",
    "        prcp[prcp<0] = np.nan\n",
    "\n",
    "        pet = model[\"mean_pet\"]\n",
    "        pet[pet<0] = np.nan\n",
    "        \n",
    "        surf = model[\"area\"]\n",
    "\n",
    "        bias = qo - qs\n",
    "    except IOError:\n",
    "        raise IOError(\"Failed to read .hdf5 file\")\n",
    "    \n",
    "tstep = np.repeat(np.arange(qs.shape[-1]), qs.shape[0])\n",
    "\n",
    "tsy = timestep_1year(st, dt, qs.shape[-1])\n",
    "tsy = np.repeat(tsy, qs.shape[0])\n",
    "\n",
    "code = np.tile(code, qs.shape[-1])\n",
    "surf = np.tile(surf, qs.shape[-1])\n",
    "qs = qs.flatten(order=\"F\")\n",
    "prcp = prcp.flatten(order=\"F\")\n",
    "pet = pet.flatten(order=\"F\")\n",
    "\n",
    "bias = bias.flatten(order=\"F\")\n",
    "\n",
    "df = pd.DataFrame({\"code\": code, \"timestep\": tstep, \"timestep_in_year\": tsy, \"surface\": surf, \"precipitation\": prcp, \"pet\": pet, \"discharge_sim\": qs, \"bias\": bias})\n",
    "        "
   ]
  },
  {
   "cell_type": "code",
   "execution_count": null,
   "metadata": {},
   "outputs": [],
   "source": [
    "list_code= [\n",
    "    \"Y4624010\",\n",
    "    \"Y6434005\",\n",
    "    \"Y5615030\",\n",
    "    \"Y5325010\",\n",
    "    \"Y5032010\",\n",
    "    \"Y5202010\",\n",
    "    \"Y4615020\",\n",
    "    \"Y5424010\",\n",
    "    \"Y5615010\",\n",
    "]"
   ]
  },
  {
   "cell_type": "code",
   "execution_count": null,
   "metadata": {},
   "outputs": [],
   "source": [
    "df = df[df.code.isin(list_code)]\n",
    "df"
   ]
  },
  {
   "cell_type": "code",
   "execution_count": null,
   "metadata": {},
   "outputs": [],
   "source": [
    "pd.plotting.scatter_matrix(df[df.code==\"Y5202010\"], alpha=0.2, diagonal='kde')"
   ]
  },
  {
   "cell_type": "code",
   "execution_count": null,
   "metadata": {},
   "outputs": [],
   "source": [
    "df.to_csv(outfile, index=False)"
   ]
  }
 ],
 "metadata": {
  "kernelspec": {
   "display_name": "smash-deepl",
   "language": "python",
   "name": "python3"
  },
  "language_info": {
   "codemirror_mode": {
    "name": "ipython",
    "version": 3
   },
   "file_extension": ".py",
   "mimetype": "text/x-python",
   "name": "python",
   "nbconvert_exporter": "python",
   "pygments_lexer": "ipython3",
   "version": "3.11.0"
  },
  "orig_nbformat": 4
 },
 "nbformat": 4,
 "nbformat_minor": 2
}
