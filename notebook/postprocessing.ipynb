{
 "cells": [
  {
   "cell_type": "code",
   "execution_count": null,
   "metadata": {},
   "outputs": [],
   "source": [
    "import smash\n",
    "import pandas as pd\n",
    "import matplotlib.pyplot as plt"
   ]
  },
  {
   "cell_type": "code",
   "execution_count": null,
   "metadata": {},
   "outputs": [],
   "source": [
    "def correct_bias(model: smash.Model, df: pd.DataFrame):\n",
    "    model_correct = model.copy()\n",
    "\n",
    "    for i, code in enumerate(model.mesh.code):\n",
    "        if code in df[\"code\"].values:\n",
    "            df_code = df[df[\"code\"]==code]\n",
    "            model_correct.sim_response.q[i, df_code[\"timestep\"].values] += df_code[\"bias\"].values\n",
    "\n",
    "    return model_correct"
   ]
  },
  {
   "cell_type": "code",
   "execution_count": null,
   "metadata": {},
   "outputs": [],
   "source": [
    "model_train = smash.io.read_model(\"../models/ardeche-train.hdf5\")\n",
    "df_train = pd.read_csv(\"res/corrected-train.csv\")\n",
    "model_train_correct = correct_bias(model_train, df_train)\n",
    "\n",
    "model_test = smash.io.read_model(\"../models/ardeche-test.hdf5\")\n",
    "df_test = pd.read_csv(\"res/corrected-test.csv\")\n",
    "model_test_correct = correct_bias(model_test, df_test)"
   ]
  },
  {
   "cell_type": "code",
   "execution_count": null,
   "metadata": {},
   "outputs": [],
   "source": [
    "list_code = df_train[\"code\"].unique()"
   ]
  },
  {
   "cell_type": "code",
   "execution_count": null,
   "metadata": {},
   "outputs": [],
   "source": [
    "def score_dframe(model, model_correct, list_code):\n",
    "\n",
    "    scores = {\"code\": [], \"method\": [], \"nse\": [], \"kge\": []}\n",
    "\n",
    "    nse = smash.metrics(model, \"nse\")\n",
    "    nse_correct = smash.metrics(model_correct, \"nse\")\n",
    "\n",
    "    kge = smash.metrics(model, \"kge\")\n",
    "    kge_correct = smash.metrics(model_correct, \"kge\")\n",
    "\n",
    "    for i, c in enumerate(list_code):\n",
    "\n",
    "        scores[\"code\"].append(c) \n",
    "        scores[\"method\"].append(\"classic\")\n",
    "        scores[\"nse\"].append(nse[i])\n",
    "        scores[\"kge\"].append(kge[i])\n",
    "\n",
    "        scores[\"code\"].append(c) \n",
    "        scores[\"method\"].append(\"lstm\")\n",
    "        scores[\"nse\"].append(nse_correct[i])\n",
    "        scores[\"kge\"].append(kge_correct[i])\n",
    "\n",
    "    return pd.DataFrame(scores)"
   ]
  },
  {
   "cell_type": "code",
   "execution_count": null,
   "metadata": {},
   "outputs": [],
   "source": [
    "df1 = score_dframe(model_train, model_train_correct, list_code)\n",
    "ax = df1.boxplot(column=[\"nse\", \"kge\"], by=\"method\")"
   ]
  },
  {
   "cell_type": "code",
   "execution_count": null,
   "metadata": {},
   "outputs": [],
   "source": [
    "df2 = score_dframe(model_test, model_test_correct, list_code)\n",
    "ax = df2.boxplot(column=[\"nse\", \"kge\"], by=\"method\")\n",
    "plt.ylim([-1,1])"
   ]
  },
  {
   "cell_type": "code",
   "execution_count": null,
   "metadata": {},
   "outputs": [],
   "source": [
    "df_test.boxplot(column=\"bias\", by=\"code\")"
   ]
  }
 ],
 "metadata": {
  "kernelspec": {
   "display_name": "smash-deepl",
   "language": "python",
   "name": "python3"
  },
  "language_info": {
   "codemirror_mode": {
    "name": "ipython",
    "version": 3
   },
   "file_extension": ".py",
   "mimetype": "text/x-python",
   "name": "python",
   "nbconvert_exporter": "python",
   "pygments_lexer": "ipython3",
   "version": "3.11.4"
  },
  "orig_nbformat": 4
 },
 "nbformat": 4,
 "nbformat_minor": 2
}
