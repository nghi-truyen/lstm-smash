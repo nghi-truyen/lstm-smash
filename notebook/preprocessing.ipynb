{
 "cells": [
  {
   "cell_type": "code",
   "execution_count": null,
   "metadata": {},
   "outputs": [],
   "source": [
    "import smash\n",
    "import numpy as np\n",
    "import pandas as pd\n",
    "from datetime import timedelta"
   ]
  },
  {
   "cell_type": "code",
   "execution_count": null,
   "metadata": {},
   "outputs": [],
   "source": [
    "def _timestep_1year(st, dt, n_ts, by=None):\n",
    "\n",
    "    if by is None:\n",
    "        by = 1\n",
    "    elif isinstance(by, str):\n",
    "        if by=='hour':\n",
    "            by = int(60*60/dt)\n",
    "        elif by=='day':\n",
    "            by = int(24*60*60/dt)\n",
    "        elif by=='month':\n",
    "            by = int(365/12*24*60*60/dt)\n",
    "\n",
    "    timestep = np.arange(1, int(365*24*60*60/dt) + 1)\n",
    "\n",
    "    defst = f\"{pd.to_datetime(st).year}-08-01 00:00:00\"\n",
    "\n",
    "    if pd.Timestamp(st) < pd.Timestamp(defst):\n",
    "        timestamps = pd.date_range(start=st, end=defst, freq=timedelta(seconds=dt))\n",
    "        s_ind = timestep.size - (len(timestamps) - 1)\n",
    "    else:\n",
    "        timestamps = pd.date_range(start=defst, end=st, freq=timedelta(seconds=dt))\n",
    "        s_ind = len(timestamps) - 1\n",
    "\n",
    "    return np.array([timestep[(s_ind+i)%len(timestep)]//by for i in range(n_ts)])"
   ]
  },
  {
   "cell_type": "code",
   "execution_count": null,
   "metadata": {},
   "outputs": [],
   "source": [
    "def model_to_df(model: smash.Model, \n",
    "                target_present: bool = True, \n",
    "                precip: bool = True, \n",
    "                pot_evapot: bool = True, \n",
    "                precip_ind: bool = True, \n",
    "                gauge: bool = None):\n",
    "\n",
    "    dict_df = {}\n",
    "\n",
    "    # % Catchment code for info\n",
    "    code = model.mesh.code \n",
    "    code = np.tile(code, model.setup.ntime_step)\n",
    "    dict_df[\"code\"] = code\n",
    "\n",
    "    # % Timestep for info\n",
    "    timestep = np.repeat(np.arange(model.setup.ntime_step), model.mesh.ng)\n",
    "    dict_df[\"timestep\"] = timestep\n",
    "\n",
    "    # % Meaningful timestep in year for learning\n",
    "    tsy = _timestep_1year(model.setup.start_time, model.setup.dt, model.setup.ntime_step)\n",
    "    tsy = np.repeat(tsy, model.mesh.ng)\n",
    "    dict_df[\"timestep_in_year\"] = tsy\n",
    "\n",
    "    # day_in_year = _timestep_1year(model.setup.start_time, model.setup.dt, model.setup.ntime_step, by=\"day\")\n",
    "    # day_in_year = np.repeat(day_in_year, model.mesh.ng)\n",
    "    # dict_df[\"day_in_year\"] = day_in_year\n",
    "\n",
    "    # month_in_year = _timestep_1year(model.setup.start_time, model.setup.dt, model.setup.ntime_step, by=\"month\")\n",
    "    # month_in_year = np.repeat(month_in_year, model.mesh.ng)\n",
    "    # dict_df[\"month_in_year\"] = month_in_year.astype(str)\n",
    "\n",
    "    # % Simumated discharges\n",
    "    qs = model.sim_response.q\n",
    "    dict_df[\"discharge_sim\"] = qs.flatten(order=\"F\")\n",
    "\n",
    "    # % Bias\n",
    "    if target_present:\n",
    "        qo = model.obs_response.q.copy()\n",
    "        qo[qo<0] = np.nan\n",
    "        bias = qo - qs\n",
    "        dict_df[\"bias\"] = bias.flatten(order=\"F\")\n",
    "\n",
    "    # % Mean Precipitation\n",
    "    if precip:\n",
    "        prcp = model.atmos_data.mean_prcp.copy()\n",
    "        prcp[prcp<0] = np.nan\n",
    "        dict_df[\"precipitation\"] = prcp.flatten(order=\"F\")\n",
    "\n",
    "    # % PET\n",
    "    if pot_evapot:\n",
    "        pet = model.atmos_data.mean_pet.copy()\n",
    "        pet[pet<0] = np.nan\n",
    "        dict_df[\"pet\"] = pet.flatten(order=\"F\")\n",
    "\n",
    "    # % Precipitation indices\n",
    "    if precip_ind:\n",
    "        prcp_ind = smash.precipitation_indices(model)\n",
    "        d1 = prcp_ind.d1.copy()\n",
    "        d1[np.isnan(d1)] = -1\n",
    "        d2 = prcp_ind.d2.copy()\n",
    "        d2[np.isnan(d2)] = -1\n",
    "        dict_df[\"d1\"] = d1.flatten(order=\"F\")\n",
    "        dict_df[\"d2\"] = d2.flatten(order=\"F\")\n",
    "\n",
    "    df = pd.DataFrame(dict_df)\n",
    "\n",
    "    if not gauge is None:\n",
    "        df = df[df[\"code\"].isin(gauge)]\n",
    "\n",
    "    return df"
   ]
  },
  {
   "cell_type": "code",
   "execution_count": null,
   "metadata": {},
   "outputs": [],
   "source": [
    "model_train = smash.io.read_model(\"../models/ardeche-train.hdf5\")\n",
    "df_train = model_to_df(model_train)\n",
    "\n",
    "model_test = smash.io.read_model(\"../models/ardeche-test.hdf5\")\n",
    "df_test = model_to_df(model_test)"
   ]
  },
  {
   "cell_type": "code",
   "execution_count": null,
   "metadata": {},
   "outputs": [],
   "source": [
    "df = df_train[df_train.code==df_train.code[0]]\n",
    "df = df.drop([\"code\", \"timestep\"], axis=1)\n",
    "ax = pd.plotting.scatter_matrix(df, alpha=0.2, diagonal='kde')"
   ]
  },
  {
   "cell_type": "code",
   "execution_count": null,
   "metadata": {},
   "outputs": [],
   "source": [
    "df = df_test[df_test.code==df_test.code[0]]\n",
    "df = df.drop([\"code\", \"timestep\"], axis=1)\n",
    "ax = pd.plotting.scatter_matrix(df, alpha=0.2, diagonal='kde')"
   ]
  },
  {
   "cell_type": "code",
   "execution_count": null,
   "metadata": {},
   "outputs": [],
   "source": [
    "df_train.boxplot(column=\"bias\", by=\"code\")"
   ]
  },
  {
   "cell_type": "code",
   "execution_count": null,
   "metadata": {},
   "outputs": [],
   "source": [
    "df_test.boxplot(column=\"bias\", by=\"code\")"
   ]
  },
  {
   "cell_type": "code",
   "execution_count": null,
   "metadata": {},
   "outputs": [],
   "source": [
    "def feature_engineering(df: pd.DataFrame):\n",
    "\n",
    "    df[\"year\"] = df[\"timestep\"] // np.max(df[\"timestep_in_year\"])\n",
    "\n",
    "    df[\"precipitation_cumsum\"] = df.groupby([\"code\", \"year\"])[\"precipitation\"].cumsum()\n",
    "    df[\"pet_cumsum\"] = df.groupby([\"code\", \"year\"])[\"pet\"].cumsum()\n",
    "    df[\"discharge_sim_cumsum\"] = df.groupby([\"code\", \"year\"])[\"discharge_sim\"].cumsum()\n",
    "\n",
    "    df['sqrt_pet'] = np.sqrt(df['pet'])\n",
    "\n",
    "    df = df.drop([\"year\", \"pet\"], axis=1)\n",
    "\n",
    "    # df['precipitation_time'] = df['precipitation'] * df['timestep_in_year']\n",
    "    # df['discharge_sim_time'] = df['discharge_sim'] * df['timestep_in_year']\n",
    "    # df[\"sqrt_pet_time\"] = df[\"sqrt_pet\"] * df['timestep_in_year']\n",
    "\n",
    "    # df['cross_prcp_dis'] = df['precipitation'] * df['discharge_sim']\n",
    "    # df['cross_prcp_pet'] = df['precipitation'] * df[\"pet\"]\n",
    "    # df['cross_pet_dis'] = df['pet'] * df['discharge_sim']\n",
    "\n",
    "    return df"
   ]
  },
  {
   "cell_type": "code",
   "execution_count": null,
   "metadata": {},
   "outputs": [],
   "source": [
    "df_train = feature_engineering(df_train)\n",
    "df_train.to_csv(\"data-P1.csv\", index=False)\n",
    "\n",
    "df_test = feature_engineering(df_test)\n",
    "df_test.to_csv(\"data-P2.csv\", index=False)"
   ]
  }
 ],
 "metadata": {
  "kernelspec": {
   "display_name": "smash-deepl",
   "language": "python",
   "name": "python3"
  },
  "language_info": {
   "codemirror_mode": {
    "name": "ipython",
    "version": 3
   },
   "file_extension": ".py",
   "mimetype": "text/x-python",
   "name": "python",
   "nbconvert_exporter": "python",
   "pygments_lexer": "ipython3",
   "version": "3.11.4"
  },
  "orig_nbformat": 4
 },
 "nbformat": 4,
 "nbformat_minor": 2
}
