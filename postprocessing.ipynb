{
 "cells": [
  {
   "cell_type": "code",
   "execution_count": null,
   "metadata": {},
   "outputs": [],
   "source": [
    "import numpy as np\n",
    "import pandas as pd"
   ]
  },
  {
   "cell_type": "code",
   "execution_count": null,
   "metadata": {},
   "outputs": [],
   "source": [
    "def NSE(observed, simulated):\n",
    "\n",
    "    mask = np.logical_or(np.isnan(observed), np.isnan(simulated))\n",
    "\n",
    "    observed_masked = np.ma.masked_array(observed, mask)\n",
    "    simulated_masked = np.ma.masked_array(simulated, mask)\n",
    "    \n",
    "    numerator = np.sum((observed_masked - simulated_masked) ** 2)\n",
    "    denominator = np.sum((observed_masked - np.mean(observed_masked)) ** 2)\n",
    "\n",
    "    return 1 - numerator / denominator\n",
    "\n",
    "def KGE(observed, simulated):\n",
    "\n",
    "    mask = np.logical_or(np.isnan(observed), np.isnan(simulated))\n",
    "\n",
    "    observed_masked = np.ma.masked_array(observed, mask)\n",
    "    simulated_masked = np.ma.masked_array(simulated, mask)\n",
    "    \n",
    "    r = np.ma.corrcoef(observed_masked, simulated_masked)[0, 1]\n",
    "    alpha = np.mean(simulated_masked) / np.mean(observed_masked)\n",
    "    beta = np.std(simulated_masked) / np.std(observed_masked)\n",
    "    \n",
    "    return 1 - np.sqrt((r - 1) ** 2 + (alpha - 1) ** 2 + (beta - 1) ** 2)"
   ]
  },
  {
   "cell_type": "code",
   "execution_count": null,
   "metadata": {},
   "outputs": [],
   "source": [
    "def score_dframe(period):\n",
    "\n",
    "    testdata = pd.read_csv(f\"data-{period}.csv\")\n",
    "    preddata = pd.read_csv(f\"data-corrected-{period}.csv\")\n",
    "    \n",
    "    code = testdata[\"code\"].unique()\n",
    "\n",
    "    scores = {\"code\": [], \"method\": [], \"nse\": [], \"kge\": []}\n",
    "\n",
    "    for i, c in enumerate(code):\n",
    "        pred = (preddata[preddata.code==code[i]][\"bias\"] + preddata[preddata.code==code[i]][\"discharge_sim\"]).to_numpy()\n",
    "        true = (testdata[testdata.code==code[i]][\"bias\"] + testdata[testdata.code==code[i]][\"discharge_sim\"]).to_numpy()\n",
    "        sim = testdata[testdata.code==code[i]][\"discharge_sim\"].to_numpy()\n",
    "\n",
    "        scores[\"code\"].append(c) \n",
    "        scores[\"method\"].append(\"classic\")\n",
    "        scores[\"nse\"].append(NSE(true, sim))\n",
    "        scores[\"kge\"].append(KGE(true, sim))\n",
    "\n",
    "        scores[\"code\"].append(c) \n",
    "        scores[\"method\"].append(\"lstm\")\n",
    "        scores[\"nse\"].append(NSE(true, pred))\n",
    "        scores[\"kge\"].append(KGE(true, pred))\n",
    "\n",
    "    return pd.DataFrame(scores)"
   ]
  },
  {
   "cell_type": "code",
   "execution_count": null,
   "metadata": {},
   "outputs": [],
   "source": [
    "df1 = score_dframe(\"P1\")\n",
    "ax = df1.boxplot(column=[\"nse\", \"kge\"], by=\"method\")"
   ]
  },
  {
   "cell_type": "code",
   "execution_count": null,
   "metadata": {},
   "outputs": [],
   "source": [
    "df2 = score_dframe(\"P2\")\n",
    "ax = df2.boxplot(column=[\"nse\", \"kge\"], by=\"method\")"
   ]
  }
 ],
 "metadata": {
  "kernelspec": {
   "display_name": "smash-deepl",
   "language": "python",
   "name": "python3"
  },
  "language_info": {
   "codemirror_mode": {
    "name": "ipython",
    "version": 3
   },
   "file_extension": ".py",
   "mimetype": "text/x-python",
   "name": "python",
   "nbconvert_exporter": "python",
   "pygments_lexer": "ipython3",
   "version": "3.11.4"
  },
  "orig_nbformat": 4
 },
 "nbformat": 4,
 "nbformat_minor": 2
}
